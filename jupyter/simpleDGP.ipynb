{
 "cells": [
  {
   "cell_type": "code",
   "execution_count": 31,
   "id": "cf989776",
   "metadata": {},
   "outputs": [
    {
     "data": {
      "application/vnd.jupyter.widget-view+json": {
       "model_id": "0596e2eec4f14b81b0a8cb4f4c8f6340",
       "version_major": 2,
       "version_minor": 0
      },
      "text/plain": [
       "interactive(children=(IntSlider(value=2000, description='n_pop', max=6000, min=-2000), IntSlider(value=10, des…"
      ]
     },
     "metadata": {},
     "output_type": "display_data"
    }
   ],
   "source": [
    "from ipywidgets import interact, interactive, fixed\n",
    "import ipywidgets as widgets\n",
    "\n",
    "@interact(n_pop=2000, n_days=10, print_daily=True, beta_daily_inf_rate=.3,\n",
    "          gamma_res_per_day=.31, n_patient_zero=10, mean_days_infectuous=10, death_prob= .01, mean_days_to_death=10)\n",
    "def sirtd_exact_sim(n_pop, n_days, print_daily, beta_daily_inf_rate, gamma_res_per_day, n_patient_zero, \n",
    "                    mean_days_infectuous, death_prob, mean_days_to_death):\n",
    "    S = [n_pop - n_patient_zero]\n",
    "    I = [n_patient_zero]\n",
    "    R = [0]\n",
    "    T = [0]\n",
    "    D = [0]\n",
    "    tweets = [0]\n",
    "    for today in range(1,n_days):\n",
    "        yest = today - 1\n",
    "        tot = S[yest] + I[yest] + R[yest] + T[yest] + D[yest]\n",
    "        if print_daily:\n",
    "            print(f\"day={yest}, S={S[yest]}, I={I[yest]}, R={R[yest]}, T={T[yest]}, D={D[yest]}, tot={tot}\")\n",
    "        S.append(S[yest] - beta_daily_inf_rate * S[yest] * (I[yest] / n_pop))\n",
    "        I.append(I[yest] + beta_daily_inf_rate * S[yest] * (I[yest] / n_pop) - \n",
    "                   (1 / mean_days_infectuous) * I[yest])\n",
    "        R.append(R[yest] + (1 / mean_days_infectuous) * (I[yest] * (1 - death_prob)))\n",
    "        T.append(T[yest] + (1 / mean_days_infectuous) * (I[yest] * death_prob) -\n",
    "                    (1 / mean_days_to_death) * T[yest])\n",
    "        D.append(D[yest] + (1 / mean_days_to_death) * T[yest])\n",
    "        \n",
    "        \n"
   ]
  },
  {
   "cell_type": "code",
   "execution_count": 16,
   "id": "e881660d",
   "metadata": {},
   "outputs": [
    {
     "ename": "IndexError",
     "evalue": "list assignment index out of range",
     "output_type": "error",
     "traceback": [
      "\u001b[0;31m---------------------------------------------------------------------------\u001b[0m",
      "\u001b[0;31mIndexError\u001b[0m                                Traceback (most recent call last)",
      "\u001b[0;32m<ipython-input-16-d42194c08f6c>\u001b[0m in \u001b[0;36m<module>\u001b[0;34m\u001b[0m\n\u001b[1;32m      1\u001b[0m \u001b[0mfoo\u001b[0m \u001b[0;34m=\u001b[0m \u001b[0;34m[\u001b[0m\u001b[0;36m1\u001b[0m\u001b[0;34m,\u001b[0m\u001b[0;36m2\u001b[0m\u001b[0;34m]\u001b[0m\u001b[0;34m\u001b[0m\u001b[0;34m\u001b[0m\u001b[0m\n\u001b[0;32m----> 2\u001b[0;31m \u001b[0mfoo\u001b[0m\u001b[0;34m[\u001b[0m\u001b[0;36m3\u001b[0m\u001b[0;34m]\u001b[0m \u001b[0;34m=\u001b[0m \u001b[0;36m3\u001b[0m\u001b[0;34m\u001b[0m\u001b[0;34m\u001b[0m\u001b[0m\n\u001b[0m",
      "\u001b[0;31mIndexError\u001b[0m: list assignment index out of range"
     ]
    }
   ],
   "source": [
    "foo = [1,2]\n",
    "foo[3] = 3"
   ]
  },
  {
   "cell_type": "code",
   "execution_count": 11,
   "id": "663bffc0",
   "metadata": {},
   "outputs": [
    {
     "name": "stdout",
     "output_type": "stream",
     "text": [
      "[1, 2, 3, 4, 5, 6, 7, 8, 9]\n"
     ]
    }
   ],
   "source": [
    "print(list(range(1,10)))"
   ]
  }
 ],
 "metadata": {
  "kernelspec": {
   "display_name": "Python 3",
   "language": "python",
   "name": "python3"
  },
  "language_info": {
   "codemirror_mode": {
    "name": "ipython",
    "version": 3
   },
   "file_extension": ".py",
   "mimetype": "text/x-python",
   "name": "python",
   "nbconvert_exporter": "python",
   "pygments_lexer": "ipython3",
   "version": "3.8.8"
  }
 },
 "nbformat": 4,
 "nbformat_minor": 5
}
